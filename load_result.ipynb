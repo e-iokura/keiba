{
 "cells": [
  {
   "cell_type": "code",
   "execution_count": 1,
   "metadata": {},
   "outputs": [
    {
     "name": "stdout",
     "output_type": "stream",
     "text": [
      "終了\n"
     ]
    }
   ],
   "source": [
    "from config import app_setting\r\n",
    "from modules import date_module\r\n",
    "\r\n",
    "if __name__ == '__main__':\r\n",
    "    app_setting.set_const_values()\r\n",
    "    kaisai_dates = date_module.load_dates(2021, 6)\r\n",
    "    print(\"開催日登録終了\")\r\n"
   ]
  },
  {
   "cell_type": "code",
   "execution_count": null,
   "metadata": {},
   "outputs": [],
   "source": [
    "from modules import race_result_module\r\n",
    "\r\n",
    "if __name__ == '__main__':\r\n",
    "    race_result_module.load_race_results(kaisai_dates)\r\n",
    "    print(\"レース結果登録終了\")\r\n"
   ]
  }
 ],
 "metadata": {
  "interpreter": {
   "hash": "720313665f73562df9db74bb3d465a30de6159c442657a6d3aee232f4756e3b7"
  },
  "kernelspec": {
   "display_name": "Python 3.9.6 64-bit",
   "name": "python3"
  },
  "language_info": {
   "name": "python",
   "version": ""
  }
 },
 "nbformat": 4,
 "nbformat_minor": 5
}