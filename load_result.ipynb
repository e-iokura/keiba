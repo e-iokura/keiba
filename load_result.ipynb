{
 "cells": [
  {
   "cell_type": "code",
   "execution_count": 1,
   "metadata": {},
   "outputs": [
    {
     "name": "stdout",
     "output_type": "stream",
     "text": [
      "終了\n"
     ]
    }
   ],
   "source": [
    "from config import app_setting\r\n",
    "from modules import date_module\r\n",
    "\r\n",
    "if __name__ == '__main__':\r\n",
    "    kaisai_dates = date_module.load_dates(2021, 6)\r\n",
    "    print(\"開催日登録終了\")\r\n"
   ]
  },
  {
   "cell_type": "code",
   "execution_count": null,
   "metadata": {},
   "outputs": [],
   "source": [
    "from modules import race_module\r\n",
    "\r\n",
    "if __name__ == '__main__':\r\n",
    "    race_module.load_rece_results(kaisai_dates)\r\n",
    "    print(\"レース結果登録終了\")\r\n"
   ]
  }
 ],
 "metadata": {
  "interpreter": {
   "hash": "720313665f73562df9db74bb3d465a30de6159c442657a6d3aee232f4756e3b7"
  },
  "kernelspec": {
   "display_name": "Python 3 (ipykernel)",
   "language": "python",
   "name": "python3"
  },
  "language_info": {
   "codemirror_mode": {
    "name": "ipython",
    "version": 3
   },
   "file_extension": ".py",
   "mimetype": "text/x-python",
   "name": "python",
   "nbconvert_exporter": "python",
   "pygments_lexer": "ipython3",
   "version": "3.9.6"
  }
 },
 "nbformat": 4,
 "nbformat_minor": 5
}