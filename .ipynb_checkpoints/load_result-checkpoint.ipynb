{
 "cells": [
  {
   "cell_type": "code",
   "execution_count": 1,
   "id": "a74dcb9d",
   "metadata": {},
   "outputs": [
    {
     "name": "stdout",
     "output_type": "stream",
     "text": [
      "終了\n"
     ]
    }
   ],
   "source": [
    "from modules import date_module\n",
    "\n",
    "if __name__ == '__main__':\n",
    "    date_module.load_dates(2021, 6)\n",
    "    print(\"開催日登録終了\")\n"
   ]
  },
  {
   "cell_type": "code",
   "execution_count": null,
   "id": "3eb657ec",
   "metadata": {},
   "outputs": [],
   "source": [
    "from modules import race_module\n",
    "\n",
    "if __name__ == "
   ]
  }
 ],
 "metadata": {
  "interpreter": {
   "hash": "720313665f73562df9db74bb3d465a30de6159c442657a6d3aee232f4756e3b7"
  },
  "kernelspec": {
   "display_name": "Python 3 (ipykernel)",
   "language": "python",
   "name": "python3"
  },
  "language_info": {
   "codemirror_mode": {
    "name": "ipython",
    "version": 3
   },
   "file_extension": ".py",
   "mimetype": "text/x-python",
   "name": "python",
   "nbconvert_exporter": "python",
   "pygments_lexer": "ipython3",
   "version": "3.9.6"
  }
 },
 "nbformat": 4,
 "nbformat_minor": 5
}
